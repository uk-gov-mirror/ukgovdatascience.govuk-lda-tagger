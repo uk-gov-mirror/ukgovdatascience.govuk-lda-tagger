{
 "cells": [
  {
   "cell_type": "code",
   "execution_count": 76,
   "metadata": {},
   "outputs": [
    {
     "name": "stdout",
     "output_type": "stream",
     "text": [
      "/Users/ellieking/govuk-lda-tagger/enviro_experiments/topic_hierarchy_dendrogram\n"
     ]
    }
   ],
   "source": [
    "cd topic_hierarchy_dendrogram/"
   ]
  },
  {
   "cell_type": "code",
   "execution_count": 77,
   "metadata": {},
   "outputs": [],
   "source": [
    "import csv\n",
    "import pandas as pd\n",
    "import re #regular expression"
   ]
  },
  {
   "cell_type": "code",
   "execution_count": 54,
   "metadata": {},
   "outputs": [],
   "source": [
    "tag1 = pd.read_csv('first_top4p25_tags.csv', header=None, names=list('abcdefgh'))\n",
    "tag2 = pd.read_csv('second_top4p25_tags.csv', header=None, names=list('abcdefgh'))\n",
    "tag3 = pd.read_csv('third_top4p25_tags.csv', header=None, names=list('abcdefgh'))\n",
    "tag4 = pd.read_csv('fourth_top4p25_tags.csv', header=None, names=list('abcdefgh'))\n",
    "tag5 = pd.read_csv('fifth_top4p25_tags.csv', header=None, names=list('abcdefgh'))"
   ]
  },
  {
   "cell_type": "code",
   "execution_count": 55,
   "metadata": {},
   "outputs": [
    {
     "name": "stdout",
     "output_type": "stream",
     "text": [
      "/Users/ellieking/govuk-lda-tagger/expanded_audits\n"
     ]
    }
   ],
   "source": [
    "cd ../../expanded_audits"
   ]
  },
  {
   "cell_type": "code",
   "execution_count": 56,
   "metadata": {},
   "outputs": [],
   "source": [
    "df_enviro = pd.read_csv('environment.csv')"
   ]
  },
  {
   "cell_type": "code",
   "execution_count": 57,
   "metadata": {},
   "outputs": [
    {
     "data": {
      "text/html": [
       "<div>\n",
       "<style>\n",
       "    .dataframe thead tr:only-child th {\n",
       "        text-align: right;\n",
       "    }\n",
       "\n",
       "    .dataframe thead th {\n",
       "        text-align: left;\n",
       "    }\n",
       "\n",
       "    .dataframe tbody tr th {\n",
       "        vertical-align: top;\n",
       "    }\n",
       "</style>\n",
       "<table border=\"1\" class=\"dataframe\">\n",
       "  <thead>\n",
       "    <tr style=\"text-align: right;\">\n",
       "      <th></th>\n",
       "      <th>url</th>\n",
       "      <th>text</th>\n",
       "    </tr>\n",
       "  </thead>\n",
       "  <tbody>\n",
       "    <tr>\n",
       "      <th>0</th>\n",
       "      <td>/guidance/salmonella-get-your-egg-laying-hens-...</td>\n",
       "      <td>How to take samples for testing, when you don'...</td>\n",
       "    </tr>\n",
       "    <tr>\n",
       "      <th>1</th>\n",
       "      <td>/guidance/animal-by-products-that-can-be-sprea...</td>\n",
       "      <td>Find out when you can apply ash, shellfish she...</td>\n",
       "    </tr>\n",
       "    <tr>\n",
       "      <th>2</th>\n",
       "      <td>/government/statistics/sheep-and-goats-scrapie...</td>\n",
       "      <td>A joint descriptive report on the statutory di...</td>\n",
       "    </tr>\n",
       "    <tr>\n",
       "      <th>3</th>\n",
       "      <td>/government/statistics/great-britain-poultry-r...</td>\n",
       "      <td>Summary data on the population of poultry and ...</td>\n",
       "    </tr>\n",
       "    <tr>\n",
       "      <th>4</th>\n",
       "      <td>/government/publications/application-for-veter...</td>\n",
       "      <td>This application must be received at least 7 w...</td>\n",
       "    </tr>\n",
       "    <tr>\n",
       "      <th>5</th>\n",
       "      <td>/government/publications/avian-wildlife-casual...</td>\n",
       "      <td>Form to complete a veterinary examination cert...</td>\n",
       "    </tr>\n",
       "    <tr>\n",
       "      <th>6</th>\n",
       "      <td>/government/statistics/cross-compliance-2013-i...</td>\n",
       "      <td>Official statistics from Cross compliance insp...</td>\n",
       "    </tr>\n",
       "    <tr>\n",
       "      <th>7</th>\n",
       "      <td>/government/publications/monitoring-the-humane...</td>\n",
       "      <td>Details of how the humaneness and effectivenes...</td>\n",
       "    </tr>\n",
       "    <tr>\n",
       "      <th>8</th>\n",
       "      <td>/government/publications/foot-and-mouth-diseas...</td>\n",
       "      <td>Preliminary outbreak assessment for foot and m...</td>\n",
       "    </tr>\n",
       "    <tr>\n",
       "      <th>9</th>\n",
       "      <td>/government/publications/bluetongue-in-greece-...</td>\n",
       "      <td>Preliminary outbreak assessment for bluetongue...</td>\n",
       "    </tr>\n",
       "  </tbody>\n",
       "</table>\n",
       "</div>"
      ],
      "text/plain": [
       "                                                 url  \\\n",
       "0  /guidance/salmonella-get-your-egg-laying-hens-...   \n",
       "1  /guidance/animal-by-products-that-can-be-sprea...   \n",
       "2  /government/statistics/sheep-and-goats-scrapie...   \n",
       "3  /government/statistics/great-britain-poultry-r...   \n",
       "4  /government/publications/application-for-veter...   \n",
       "5  /government/publications/avian-wildlife-casual...   \n",
       "6  /government/statistics/cross-compliance-2013-i...   \n",
       "7  /government/publications/monitoring-the-humane...   \n",
       "8  /government/publications/foot-and-mouth-diseas...   \n",
       "9  /government/publications/bluetongue-in-greece-...   \n",
       "\n",
       "                                                text  \n",
       "0  How to take samples for testing, when you don'...  \n",
       "1  Find out when you can apply ash, shellfish she...  \n",
       "2  A joint descriptive report on the statutory di...  \n",
       "3  Summary data on the population of poultry and ...  \n",
       "4  This application must be received at least 7 w...  \n",
       "5  Form to complete a veterinary examination cert...  \n",
       "6  Official statistics from Cross compliance insp...  \n",
       "7  Details of how the humaneness and effectivenes...  \n",
       "8  Preliminary outbreak assessment for foot and m...  \n",
       "9  Preliminary outbreak assessment for bluetongue...  "
      ]
     },
     "execution_count": 57,
     "metadata": {},
     "output_type": "execute_result"
    }
   ],
   "source": [
    "df_enviro.head(10)"
   ]
  },
  {
   "cell_type": "code",
   "execution_count": 60,
   "metadata": {},
   "outputs": [],
   "source": [
    "df_tag5['b'] = df_tag5['b'].str.replace(r'\\[\\(', '')"
   ]
  },
  {
   "cell_type": "code",
   "execution_count": 61,
   "metadata": {},
   "outputs": [],
   "source": [
    "df2_tag5 =  df_tag5.drop(df_tag5.columns[[2, 3, 4, 5, 6, 7]], axis=1)"
   ]
  },
  {
   "cell_type": "code",
   "execution_count": 62,
   "metadata": {},
   "outputs": [],
   "source": [
    "df2_tag5.columns = ['url', 'topic_id']"
   ]
  },
  {
   "cell_type": "code",
   "execution_count": 63,
   "metadata": {},
   "outputs": [
    {
     "data": {
      "text/html": [
       "<div>\n",
       "<style>\n",
       "    .dataframe thead tr:only-child th {\n",
       "        text-align: right;\n",
       "    }\n",
       "\n",
       "    .dataframe thead th {\n",
       "        text-align: left;\n",
       "    }\n",
       "\n",
       "    .dataframe tbody tr th {\n",
       "        vertical-align: top;\n",
       "    }\n",
       "</style>\n",
       "<table border=\"1\" class=\"dataframe\">\n",
       "  <thead>\n",
       "    <tr style=\"text-align: right;\">\n",
       "      <th></th>\n",
       "      <th>url</th>\n",
       "      <th>topic_id</th>\n",
       "    </tr>\n",
       "  </thead>\n",
       "  <tbody>\n",
       "    <tr>\n",
       "      <th>0</th>\n",
       "      <td>/guidance/salmonella-get-your-egg-laying-hens-...</td>\n",
       "      <td>3</td>\n",
       "    </tr>\n",
       "    <tr>\n",
       "      <th>1</th>\n",
       "      <td>/guidance/animal-by-products-that-can-be-sprea...</td>\n",
       "      <td>4</td>\n",
       "    </tr>\n",
       "    <tr>\n",
       "      <th>2</th>\n",
       "      <td>/government/statistics/sheep-and-goats-scrapie...</td>\n",
       "      <td>0</td>\n",
       "    </tr>\n",
       "    <tr>\n",
       "      <th>3</th>\n",
       "      <td>/government/statistics/great-britain-poultry-r...</td>\n",
       "      <td>3</td>\n",
       "    </tr>\n",
       "    <tr>\n",
       "      <th>4</th>\n",
       "      <td>/government/publications/application-for-veter...</td>\n",
       "      <td>4</td>\n",
       "    </tr>\n",
       "    <tr>\n",
       "      <th>5</th>\n",
       "      <td>/government/publications/avian-wildlife-casual...</td>\n",
       "      <td>4</td>\n",
       "    </tr>\n",
       "    <tr>\n",
       "      <th>6</th>\n",
       "      <td>/government/statistics/cross-compliance-2013-i...</td>\n",
       "      <td>4</td>\n",
       "    </tr>\n",
       "    <tr>\n",
       "      <th>7</th>\n",
       "      <td>/government/publications/monitoring-the-humane...</td>\n",
       "      <td>4</td>\n",
       "    </tr>\n",
       "    <tr>\n",
       "      <th>8</th>\n",
       "      <td>/government/publications/foot-and-mouth-diseas...</td>\n",
       "      <td>0</td>\n",
       "    </tr>\n",
       "    <tr>\n",
       "      <th>9</th>\n",
       "      <td>/government/publications/bluetongue-in-greece-...</td>\n",
       "      <td>0</td>\n",
       "    </tr>\n",
       "  </tbody>\n",
       "</table>\n",
       "</div>"
      ],
      "text/plain": [
       "                                                 url topic_id\n",
       "0  /guidance/salmonella-get-your-egg-laying-hens-...        3\n",
       "1  /guidance/animal-by-products-that-can-be-sprea...        4\n",
       "2  /government/statistics/sheep-and-goats-scrapie...        0\n",
       "3  /government/statistics/great-britain-poultry-r...        3\n",
       "4  /government/publications/application-for-veter...        4\n",
       "5  /government/publications/avian-wildlife-casual...        4\n",
       "6  /government/statistics/cross-compliance-2013-i...        4\n",
       "7  /government/publications/monitoring-the-humane...        4\n",
       "8  /government/publications/foot-and-mouth-diseas...        0\n",
       "9  /government/publications/bluetongue-in-greece-...        0"
      ]
     },
     "execution_count": 63,
     "metadata": {},
     "output_type": "execute_result"
    }
   ],
   "source": [
    "df2_tag5.head(10)"
   ]
  },
  {
   "cell_type": "code",
   "execution_count": 64,
   "metadata": {},
   "outputs": [],
   "source": [
    "df_first_topic = df2_tag5.loc[df2_tag5['topic_id'] == '0']\n",
    "df_second_topic = df2_tag5.loc[df2_tag5['topic_id'] == '1']\n",
    "df_third_topic = df2_tag5.loc[df2_tag5['topic_id'] == '2']\n",
    "df_fourth_topic = df2_tag5.loc[df2_tag5['topic_id'] == '3']\n",
    "df_fifth_topic = df2_tag5.loc[df2_tag5['topic_id'] == '4']"
   ]
  },
  {
   "cell_type": "code",
   "execution_count": 65,
   "metadata": {},
   "outputs": [
    {
     "data": {
      "text/html": [
       "<div>\n",
       "<style>\n",
       "    .dataframe thead tr:only-child th {\n",
       "        text-align: right;\n",
       "    }\n",
       "\n",
       "    .dataframe thead th {\n",
       "        text-align: left;\n",
       "    }\n",
       "\n",
       "    .dataframe tbody tr th {\n",
       "        vertical-align: top;\n",
       "    }\n",
       "</style>\n",
       "<table border=\"1\" class=\"dataframe\">\n",
       "  <thead>\n",
       "    <tr style=\"text-align: right;\">\n",
       "      <th></th>\n",
       "      <th>url</th>\n",
       "      <th>topic_id</th>\n",
       "    </tr>\n",
       "  </thead>\n",
       "  <tbody>\n",
       "    <tr>\n",
       "      <th>2</th>\n",
       "      <td>/government/statistics/sheep-and-goats-scrapie...</td>\n",
       "      <td>0</td>\n",
       "    </tr>\n",
       "    <tr>\n",
       "      <th>8</th>\n",
       "      <td>/government/publications/foot-and-mouth-diseas...</td>\n",
       "      <td>0</td>\n",
       "    </tr>\n",
       "    <tr>\n",
       "      <th>9</th>\n",
       "      <td>/government/publications/bluetongue-in-greece-...</td>\n",
       "      <td>0</td>\n",
       "    </tr>\n",
       "    <tr>\n",
       "      <th>10</th>\n",
       "      <td>/government/publications/vesicular-stomatitis-...</td>\n",
       "      <td>0</td>\n",
       "    </tr>\n",
       "    <tr>\n",
       "      <th>11</th>\n",
       "      <td>/government/publications/swine-fever-in-domest...</td>\n",
       "      <td>0</td>\n",
       "    </tr>\n",
       "    <tr>\n",
       "      <th>12</th>\n",
       "      <td>/government/publications/bluetongue-in-greece-...</td>\n",
       "      <td>0</td>\n",
       "    </tr>\n",
       "    <tr>\n",
       "      <th>13</th>\n",
       "      <td>/government/publications/pest-de-petits-rumina...</td>\n",
       "      <td>0</td>\n",
       "    </tr>\n",
       "    <tr>\n",
       "      <th>14</th>\n",
       "      <td>/government/publications/foot-and-mouth-diseas...</td>\n",
       "      <td>0</td>\n",
       "    </tr>\n",
       "    <tr>\n",
       "      <th>15</th>\n",
       "      <td>/government/publications/avian-influenza-in-po...</td>\n",
       "      <td>0</td>\n",
       "    </tr>\n",
       "    <tr>\n",
       "      <th>19</th>\n",
       "      <td>/guidance/animal-by-product-processors-how-to-...</td>\n",
       "      <td>0</td>\n",
       "    </tr>\n",
       "  </tbody>\n",
       "</table>\n",
       "</div>"
      ],
      "text/plain": [
       "                                                  url topic_id\n",
       "2   /government/statistics/sheep-and-goats-scrapie...        0\n",
       "8   /government/publications/foot-and-mouth-diseas...        0\n",
       "9   /government/publications/bluetongue-in-greece-...        0\n",
       "10  /government/publications/vesicular-stomatitis-...        0\n",
       "11  /government/publications/swine-fever-in-domest...        0\n",
       "12  /government/publications/bluetongue-in-greece-...        0\n",
       "13  /government/publications/pest-de-petits-rumina...        0\n",
       "14  /government/publications/foot-and-mouth-diseas...        0\n",
       "15  /government/publications/avian-influenza-in-po...        0\n",
       "19  /guidance/animal-by-product-processors-how-to-...        0"
      ]
     },
     "execution_count": 65,
     "metadata": {},
     "output_type": "execute_result"
    }
   ],
   "source": [
    "df_first_topic.head(10)"
   ]
  },
  {
   "cell_type": "code",
   "execution_count": 66,
   "metadata": {},
   "outputs": [
    {
     "data": {
      "text/plain": [
       "(1842, 2)"
      ]
     },
     "execution_count": 66,
     "metadata": {},
     "output_type": "execute_result"
    }
   ],
   "source": [
    "df_first_topic.shape"
   ]
  },
  {
   "cell_type": "code",
   "execution_count": 67,
   "metadata": {},
   "outputs": [],
   "source": [
    "df_first = pd.merge(df_first_topic, df_enviro, left_index = True, right_index = True , indicator = True)\n",
    "df_second = pd.merge(df_second_topic, df_enviro, left_index = True, right_index = True , indicator = True)\n",
    "df_third = pd.merge(df_third_topic, df_enviro, left_index = True, right_index = True , indicator = True)\n",
    "df_fourth = pd.merge(df_fourth_topic, df_enviro, left_index = True, right_index = True , indicator = True)\n",
    "df_fifth = pd.merge(df_fifth_topic, df_enviro, left_index = True, right_index = True , indicator = True)"
   ]
  },
  {
   "cell_type": "code",
   "execution_count": 68,
   "metadata": {},
   "outputs": [
    {
     "data": {
      "text/html": [
       "<div>\n",
       "<style>\n",
       "    .dataframe thead tr:only-child th {\n",
       "        text-align: right;\n",
       "    }\n",
       "\n",
       "    .dataframe thead th {\n",
       "        text-align: left;\n",
       "    }\n",
       "\n",
       "    .dataframe tbody tr th {\n",
       "        vertical-align: top;\n",
       "    }\n",
       "</style>\n",
       "<table border=\"1\" class=\"dataframe\">\n",
       "  <thead>\n",
       "    <tr style=\"text-align: right;\">\n",
       "      <th></th>\n",
       "      <th>url_x</th>\n",
       "      <th>topic_id</th>\n",
       "      <th>url_y</th>\n",
       "      <th>text</th>\n",
       "      <th>_merge</th>\n",
       "    </tr>\n",
       "  </thead>\n",
       "  <tbody>\n",
       "    <tr>\n",
       "      <th>2</th>\n",
       "      <td>/government/statistics/sheep-and-goats-scrapie...</td>\n",
       "      <td>0</td>\n",
       "      <td>/government/statistics/sheep-and-goats-scrapie...</td>\n",
       "      <td>A joint descriptive report on the statutory di...</td>\n",
       "      <td>both</td>\n",
       "    </tr>\n",
       "    <tr>\n",
       "      <th>8</th>\n",
       "      <td>/government/publications/foot-and-mouth-diseas...</td>\n",
       "      <td>0</td>\n",
       "      <td>/government/publications/foot-and-mouth-diseas...</td>\n",
       "      <td>Preliminary outbreak assessment for foot and m...</td>\n",
       "      <td>both</td>\n",
       "    </tr>\n",
       "    <tr>\n",
       "      <th>9</th>\n",
       "      <td>/government/publications/bluetongue-in-greece-...</td>\n",
       "      <td>0</td>\n",
       "      <td>/government/publications/bluetongue-in-greece-...</td>\n",
       "      <td>Preliminary outbreak assessment for bluetongue...</td>\n",
       "      <td>both</td>\n",
       "    </tr>\n",
       "    <tr>\n",
       "      <th>10</th>\n",
       "      <td>/government/publications/vesicular-stomatitis-...</td>\n",
       "      <td>0</td>\n",
       "      <td>/government/publications/vesicular-stomatitis-...</td>\n",
       "      <td>Preliminary outbreak assessment for vesicular ...</td>\n",
       "      <td>both</td>\n",
       "    </tr>\n",
       "    <tr>\n",
       "      <th>11</th>\n",
       "      <td>/government/publications/swine-fever-in-domest...</td>\n",
       "      <td>0</td>\n",
       "      <td>/government/publications/swine-fever-in-domest...</td>\n",
       "      <td>Preliminary outbreak assessment for swine feve...</td>\n",
       "      <td>both</td>\n",
       "    </tr>\n",
       "    <tr>\n",
       "      <th>12</th>\n",
       "      <td>/government/publications/bluetongue-in-greece-...</td>\n",
       "      <td>0</td>\n",
       "      <td>/government/publications/bluetongue-in-greece-...</td>\n",
       "      <td>Preliminary outbreak assessment for bluetongue...</td>\n",
       "      <td>both</td>\n",
       "    </tr>\n",
       "    <tr>\n",
       "      <th>13</th>\n",
       "      <td>/government/publications/pest-de-petits-rumina...</td>\n",
       "      <td>0</td>\n",
       "      <td>/government/publications/pest-de-petits-rumina...</td>\n",
       "      <td>Preliminary outbreak assessment for pest de pe...</td>\n",
       "      <td>both</td>\n",
       "    </tr>\n",
       "    <tr>\n",
       "      <th>14</th>\n",
       "      <td>/government/publications/foot-and-mouth-diseas...</td>\n",
       "      <td>0</td>\n",
       "      <td>/government/publications/foot-and-mouth-diseas...</td>\n",
       "      <td>Preliminary outbreak assessment for foot and m...</td>\n",
       "      <td>both</td>\n",
       "    </tr>\n",
       "    <tr>\n",
       "      <th>15</th>\n",
       "      <td>/government/publications/avian-influenza-in-po...</td>\n",
       "      <td>0</td>\n",
       "      <td>/government/publications/avian-influenza-in-po...</td>\n",
       "      <td>Preliminary outbreak assessment for avian infl...</td>\n",
       "      <td>both</td>\n",
       "    </tr>\n",
       "    <tr>\n",
       "      <th>19</th>\n",
       "      <td>/guidance/animal-by-product-processors-how-to-...</td>\n",
       "      <td>0</td>\n",
       "      <td>/guidance/animal-by-product-processors-how-to-...</td>\n",
       "      <td>Find out how to carry out a processing test, w...</td>\n",
       "      <td>both</td>\n",
       "    </tr>\n",
       "  </tbody>\n",
       "</table>\n",
       "</div>"
      ],
      "text/plain": [
       "                                                url_x topic_id  \\\n",
       "2   /government/statistics/sheep-and-goats-scrapie...        0   \n",
       "8   /government/publications/foot-and-mouth-diseas...        0   \n",
       "9   /government/publications/bluetongue-in-greece-...        0   \n",
       "10  /government/publications/vesicular-stomatitis-...        0   \n",
       "11  /government/publications/swine-fever-in-domest...        0   \n",
       "12  /government/publications/bluetongue-in-greece-...        0   \n",
       "13  /government/publications/pest-de-petits-rumina...        0   \n",
       "14  /government/publications/foot-and-mouth-diseas...        0   \n",
       "15  /government/publications/avian-influenza-in-po...        0   \n",
       "19  /guidance/animal-by-product-processors-how-to-...        0   \n",
       "\n",
       "                                                url_y  \\\n",
       "2   /government/statistics/sheep-and-goats-scrapie...   \n",
       "8   /government/publications/foot-and-mouth-diseas...   \n",
       "9   /government/publications/bluetongue-in-greece-...   \n",
       "10  /government/publications/vesicular-stomatitis-...   \n",
       "11  /government/publications/swine-fever-in-domest...   \n",
       "12  /government/publications/bluetongue-in-greece-...   \n",
       "13  /government/publications/pest-de-petits-rumina...   \n",
       "14  /government/publications/foot-and-mouth-diseas...   \n",
       "15  /government/publications/avian-influenza-in-po...   \n",
       "19  /guidance/animal-by-product-processors-how-to-...   \n",
       "\n",
       "                                                 text _merge  \n",
       "2   A joint descriptive report on the statutory di...   both  \n",
       "8   Preliminary outbreak assessment for foot and m...   both  \n",
       "9   Preliminary outbreak assessment for bluetongue...   both  \n",
       "10  Preliminary outbreak assessment for vesicular ...   both  \n",
       "11  Preliminary outbreak assessment for swine feve...   both  \n",
       "12  Preliminary outbreak assessment for bluetongue...   both  \n",
       "13  Preliminary outbreak assessment for pest de pe...   both  \n",
       "14  Preliminary outbreak assessment for foot and m...   both  \n",
       "15  Preliminary outbreak assessment for avian infl...   both  \n",
       "19  Find out how to carry out a processing test, w...   both  "
      ]
     },
     "execution_count": 68,
     "metadata": {},
     "output_type": "execute_result"
    }
   ],
   "source": [
    "df_first.head(10)"
   ]
  },
  {
   "cell_type": "code",
   "execution_count": 69,
   "metadata": {},
   "outputs": [
    {
     "data": {
      "text/html": [
       "<div>\n",
       "<style>\n",
       "    .dataframe thead tr:only-child th {\n",
       "        text-align: right;\n",
       "    }\n",
       "\n",
       "    .dataframe thead th {\n",
       "        text-align: left;\n",
       "    }\n",
       "\n",
       "    .dataframe tbody tr th {\n",
       "        vertical-align: top;\n",
       "    }\n",
       "</style>\n",
       "<table border=\"1\" class=\"dataframe\">\n",
       "  <thead>\n",
       "    <tr style=\"text-align: right;\">\n",
       "      <th></th>\n",
       "      <th>url_x</th>\n",
       "      <th>topic_id</th>\n",
       "      <th>url_y</th>\n",
       "      <th>text</th>\n",
       "      <th>_merge</th>\n",
       "    </tr>\n",
       "  </thead>\n",
       "  <tbody>\n",
       "  </tbody>\n",
       "</table>\n",
       "</div>"
      ],
      "text/plain": [
       "Empty DataFrame\n",
       "Columns: [url_x, topic_id, url_y, text, _merge]\n",
       "Index: []"
      ]
     },
     "execution_count": 69,
     "metadata": {},
     "output_type": "execute_result"
    }
   ],
   "source": [
    "df_first.loc[(df_first['url_x'] != df_first['url_y'])]\n",
    "df_second.loc[(df_second['url_x'] != df_second['url_y'])]\n",
    "df_third.loc[(df_third['url_x'] != df_third['url_y'])]\n",
    "df_fourth.loc[(df_fourth['url_x'] != df_fourth['url_y'])]\n",
    "df_fifth.loc[(df_fifth['url_x'] != df_fifth['url_y'])]"
   ]
  },
  {
   "cell_type": "code",
   "execution_count": 70,
   "metadata": {},
   "outputs": [],
   "source": [
    "df_first =  df_first.drop(df_first.columns[[1, 2, 4]], axis=1)\n",
    "df_second =  df_second.drop(df_second.columns[[1, 2, 4]], axis=1)\n",
    "df_third =  df_third.drop(df_third.columns[[1, 2, 4]], axis=1)\n",
    "df_fourth =  df_fourth.drop(df_fourth.columns[[1, 2, 4]], axis=1)\n",
    "df_fifth =  df_fifth.drop(df_fifth.columns[[1, 2, 4]], axis=1)"
   ]
  },
  {
   "cell_type": "code",
   "execution_count": 71,
   "metadata": {},
   "outputs": [],
   "source": [
    "df_first.columns = ['url', 'text']\n",
    "df_second.columns = ['url', 'text']\n",
    "df_third.columns = ['url', 'text']\n",
    "df_fourth.columns = ['url', 'text']\n",
    "df_fifth.columns = ['url', 'text']"
   ]
  },
  {
   "cell_type": "code",
   "execution_count": 72,
   "metadata": {},
   "outputs": [
    {
     "data": {
      "text/plain": [
       "(1842, 2)"
      ]
     },
     "execution_count": 72,
     "metadata": {},
     "output_type": "execute_result"
    }
   ],
   "source": [
    "df_first.shape"
   ]
  },
  {
   "cell_type": "code",
   "execution_count": 73,
   "metadata": {},
   "outputs": [
    {
     "name": "stdout",
     "output_type": "stream",
     "text": [
      "/Users/ellieking/govuk-lda-tagger/enviro_experiments\n"
     ]
    }
   ],
   "source": [
    "cd ../enviro_experiments"
   ]
  },
  {
   "cell_type": "code",
   "execution_count": 74,
   "metadata": {},
   "outputs": [],
   "source": [
    "df_first.to_csv('first_top_PM.csv', index = False)\n",
    "df_second.to_csv('second_top_PM.csv', index = False)\n",
    "df_third.to_csv('third_top_PM.csv', index = False)\n",
    "df_fourth.to_csv('fourth_top_PM.csv', index = False)\n",
    "df_fifth.to_csv('fifth_top_PM.csv', index = False)"
   ]
  },
  {
   "cell_type": "code",
   "execution_count": null,
   "metadata": {},
   "outputs": [],
   "source": []
  }
 ],
 "metadata": {
  "kernelspec": {
   "display_name": "Python 3",
   "language": "python",
   "name": "python3"
  },
  "language_info": {
   "codemirror_mode": {
    "name": "ipython",
    "version": 3
   },
   "file_extension": ".py",
   "mimetype": "text/x-python",
   "name": "python",
   "nbconvert_exporter": "python",
   "pygments_lexer": "ipython3",
   "version": "3.6.1"
  }
 },
 "nbformat": 4,
 "nbformat_minor": 2
}
