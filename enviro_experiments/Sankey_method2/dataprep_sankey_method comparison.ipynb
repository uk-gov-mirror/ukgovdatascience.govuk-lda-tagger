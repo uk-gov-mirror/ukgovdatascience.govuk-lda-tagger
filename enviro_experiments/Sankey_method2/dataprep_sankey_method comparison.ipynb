{
 "cells": [
  {
   "cell_type": "code",
   "execution_count": 97,
   "metadata": {},
   "outputs": [],
   "source": [
    "import csv\n",
    "import pandas as pd\n",
    "import re #regular expression"
   ]
  },
  {
   "cell_type": "code",
   "execution_count": 98,
   "metadata": {},
   "outputs": [
    {
     "data": {
      "text/plain": [
       "'/Users/ellieking/govuk-lda-tagger/enviro_experiments/topic_hierarchy_dendrogram'"
      ]
     },
     "execution_count": 98,
     "metadata": {},
     "output_type": "execute_result"
    }
   ],
   "source": [
    "pwd"
   ]
  },
  {
   "cell_type": "code",
   "execution_count": 99,
   "metadata": {},
   "outputs": [
    {
     "name": "stdout",
     "output_type": "stream",
     "text": [
      "/Users/ellieking/govuk-lda-tagger/enviro_experiments/tops20_p25_phrasemachine\n"
     ]
    }
   ],
   "source": [
    "cd ../tops20_p25_phrasemachine"
   ]
  },
  {
   "cell_type": "code",
   "execution_count": 100,
   "metadata": {},
   "outputs": [],
   "source": [
    "freestyle_20 = pd.read_csv('PM_top20p25_tags.csv', header=None, names=list('abcdefgh'))"
   ]
  },
  {
   "cell_type": "code",
   "execution_count": 101,
   "metadata": {},
   "outputs": [
    {
     "name": "stdout",
     "output_type": "stream",
     "text": [
      "/Users/ellieking/govuk-lda-tagger/enviro_experiments/topic_hierarchy_dendrogram\n"
     ]
    }
   ],
   "source": [
    "cd ../topic_hierarchy_dendrogram"
   ]
  },
  {
   "cell_type": "code",
   "execution_count": 102,
   "metadata": {},
   "outputs": [],
   "source": [
    "first = pd.read_csv('first_top4p25_tags.csv', header=None, names=list('abcdefgh'))\n",
    "second = pd.read_csv('second_top4p25_tags.csv', header=None, names=list('abcdefgh'))\n",
    "third = pd.read_csv('third_top4p25_tags.csv', header=None, names=list('abcdefgh'))\n",
    "fourth = pd.read_csv('fourth_top4p25_tags.csv', header=None, names=list('abcdefgh'))\n",
    "fifth = pd.read_csv('fifth_top4p25_tags.csv', header=None, names=list('abcdefgh'))"
   ]
  },
  {
   "cell_type": "code",
   "execution_count": 103,
   "metadata": {},
   "outputs": [
    {
     "data": {
      "text/html": [
       "<div>\n",
       "<style>\n",
       "    .dataframe thead tr:only-child th {\n",
       "        text-align: right;\n",
       "    }\n",
       "\n",
       "    .dataframe thead th {\n",
       "        text-align: left;\n",
       "    }\n",
       "\n",
       "    .dataframe tbody tr th {\n",
       "        vertical-align: top;\n",
       "    }\n",
       "</style>\n",
       "<table border=\"1\" class=\"dataframe\">\n",
       "  <thead>\n",
       "    <tr style=\"text-align: right;\">\n",
       "      <th></th>\n",
       "      <th>a</th>\n",
       "      <th>b</th>\n",
       "      <th>c</th>\n",
       "      <th>d</th>\n",
       "      <th>e</th>\n",
       "      <th>f</th>\n",
       "      <th>g</th>\n",
       "      <th>h</th>\n",
       "    </tr>\n",
       "  </thead>\n",
       "  <tbody>\n",
       "    <tr>\n",
       "      <th>0</th>\n",
       "      <td>/government/statistics/sheep-and-goats-scrapie...</td>\n",
       "      <td>[(0</td>\n",
       "      <td>0.91260685471790615)</td>\n",
       "      <td>(3</td>\n",
       "      <td>0.033788942211084472)</td>\n",
       "      <td>(1</td>\n",
       "      <td>0.026960181216966743)]</td>\n",
       "      <td>NaN</td>\n",
       "    </tr>\n",
       "    <tr>\n",
       "      <th>1</th>\n",
       "      <td>/government/publications/foot-and-mouth-diseas...</td>\n",
       "      <td>[(1</td>\n",
       "      <td>0.8790436333361793)</td>\n",
       "      <td>(0</td>\n",
       "      <td>0.04038472041866617)</td>\n",
       "      <td>(3</td>\n",
       "      <td>0.040345034448932365)]</td>\n",
       "      <td>NaN</td>\n",
       "    </tr>\n",
       "    <tr>\n",
       "      <th>2</th>\n",
       "      <td>/government/publications/bluetongue-in-greece-...</td>\n",
       "      <td>[(0</td>\n",
       "      <td>0.89174256977663802)</td>\n",
       "      <td>(1</td>\n",
       "      <td>0.036869410649407561)</td>\n",
       "      <td>(3</td>\n",
       "      <td>0.035762542339884358)]</td>\n",
       "      <td>NaN</td>\n",
       "    </tr>\n",
       "    <tr>\n",
       "      <th>3</th>\n",
       "      <td>/government/publications/vesicular-stomatitis-...</td>\n",
       "      <td>[(0</td>\n",
       "      <td>0.89276881241946238)</td>\n",
       "      <td>(1</td>\n",
       "      <td>0.036296233597281097)</td>\n",
       "      <td>(3</td>\n",
       "      <td>0.035618037544572094)]</td>\n",
       "      <td>NaN</td>\n",
       "    </tr>\n",
       "    <tr>\n",
       "      <th>4</th>\n",
       "      <td>/government/publications/swine-fever-in-domest...</td>\n",
       "      <td>[(3</td>\n",
       "      <td>0.89660154801836123)</td>\n",
       "      <td>(1</td>\n",
       "      <td>0.034868964000546614)</td>\n",
       "      <td>(0</td>\n",
       "      <td>0.034581969550215419)]</td>\n",
       "      <td>NaN</td>\n",
       "    </tr>\n",
       "    <tr>\n",
       "      <th>5</th>\n",
       "      <td>/government/publications/bluetongue-in-greece-...</td>\n",
       "      <td>[(0</td>\n",
       "      <td>0.89156628295462448)</td>\n",
       "      <td>(1</td>\n",
       "      <td>0.036527789543109)</td>\n",
       "      <td>(2</td>\n",
       "      <td>0.035961421734076182)]</td>\n",
       "      <td>NaN</td>\n",
       "    </tr>\n",
       "    <tr>\n",
       "      <th>6</th>\n",
       "      <td>/government/publications/pest-de-petits-rumina...</td>\n",
       "      <td>[(1</td>\n",
       "      <td>0.90341605499369726)</td>\n",
       "      <td>(2</td>\n",
       "      <td>0.032227470506635374)</td>\n",
       "      <td>(3</td>\n",
       "      <td>0.032204198588522248)]</td>\n",
       "      <td>NaN</td>\n",
       "    </tr>\n",
       "    <tr>\n",
       "      <th>7</th>\n",
       "      <td>/government/publications/foot-and-mouth-diseas...</td>\n",
       "      <td>[(1</td>\n",
       "      <td>0.88472567149648407)</td>\n",
       "      <td>(0</td>\n",
       "      <td>0.038503440421681946)</td>\n",
       "      <td>(3</td>\n",
       "      <td>0.038417183099476351)]</td>\n",
       "      <td>NaN</td>\n",
       "    </tr>\n",
       "    <tr>\n",
       "      <th>8</th>\n",
       "      <td>/government/publications/avian-influenza-in-po...</td>\n",
       "      <td>[(2</td>\n",
       "      <td>0.88713102230883978)</td>\n",
       "      <td>(0</td>\n",
       "      <td>0.037820791603013479)</td>\n",
       "      <td>(1</td>\n",
       "      <td>0.03772363223259468)]</td>\n",
       "      <td>NaN</td>\n",
       "    </tr>\n",
       "    <tr>\n",
       "      <th>9</th>\n",
       "      <td>/guidance/animal-by-product-processors-how-to-...</td>\n",
       "      <td>[(1</td>\n",
       "      <td>0.95128143089723705)</td>\n",
       "      <td>(0</td>\n",
       "      <td>0.016285143509912441)</td>\n",
       "      <td>(3</td>\n",
       "      <td>0.016225126720582624)]</td>\n",
       "      <td>NaN</td>\n",
       "    </tr>\n",
       "  </tbody>\n",
       "</table>\n",
       "</div>"
      ],
      "text/plain": [
       "                                                   a    b  \\\n",
       "0  /government/statistics/sheep-and-goats-scrapie...  [(0   \n",
       "1  /government/publications/foot-and-mouth-diseas...  [(1   \n",
       "2  /government/publications/bluetongue-in-greece-...  [(0   \n",
       "3  /government/publications/vesicular-stomatitis-...  [(0   \n",
       "4  /government/publications/swine-fever-in-domest...  [(3   \n",
       "5  /government/publications/bluetongue-in-greece-...  [(0   \n",
       "6  /government/publications/pest-de-petits-rumina...  [(1   \n",
       "7  /government/publications/foot-and-mouth-diseas...  [(1   \n",
       "8  /government/publications/avian-influenza-in-po...  [(2   \n",
       "9  /guidance/animal-by-product-processors-how-to-...  [(1   \n",
       "\n",
       "                       c    d                       e    f  \\\n",
       "0   0.91260685471790615)   (3   0.033788942211084472)   (1   \n",
       "1    0.8790436333361793)   (0    0.04038472041866617)   (3   \n",
       "2   0.89174256977663802)   (1   0.036869410649407561)   (3   \n",
       "3   0.89276881241946238)   (1   0.036296233597281097)   (3   \n",
       "4   0.89660154801836123)   (1   0.034868964000546614)   (0   \n",
       "5   0.89156628295462448)   (1      0.036527789543109)   (2   \n",
       "6   0.90341605499369726)   (2   0.032227470506635374)   (3   \n",
       "7   0.88472567149648407)   (0   0.038503440421681946)   (3   \n",
       "8   0.88713102230883978)   (0   0.037820791603013479)   (1   \n",
       "9   0.95128143089723705)   (0   0.016285143509912441)   (3   \n",
       "\n",
       "                         g   h  \n",
       "0   0.026960181216966743)] NaN  \n",
       "1   0.040345034448932365)] NaN  \n",
       "2   0.035762542339884358)] NaN  \n",
       "3   0.035618037544572094)] NaN  \n",
       "4   0.034581969550215419)] NaN  \n",
       "5   0.035961421734076182)] NaN  \n",
       "6   0.032204198588522248)] NaN  \n",
       "7   0.038417183099476351)] NaN  \n",
       "8    0.03772363223259468)] NaN  \n",
       "9   0.016225126720582624)] NaN  "
      ]
     },
     "execution_count": 103,
     "metadata": {},
     "output_type": "execute_result"
    }
   ],
   "source": [
    "first.shape\n",
    "first.head(10)"
   ]
  },
  {
   "cell_type": "code",
   "execution_count": 104,
   "metadata": {},
   "outputs": [
    {
     "data": {
      "text/plain": [
       "(1483, 8)"
      ]
     },
     "execution_count": 104,
     "metadata": {},
     "output_type": "execute_result"
    }
   ],
   "source": [
    "second.shape"
   ]
  },
  {
   "cell_type": "code",
   "execution_count": 105,
   "metadata": {},
   "outputs": [
    {
     "data": {
      "text/plain": [
       "(1164, 8)"
      ]
     },
     "execution_count": 105,
     "metadata": {},
     "output_type": "execute_result"
    }
   ],
   "source": [
    "third.shape"
   ]
  },
  {
   "cell_type": "code",
   "execution_count": 106,
   "metadata": {},
   "outputs": [
    {
     "data": {
      "text/plain": [
       "(2775, 8)"
      ]
     },
     "execution_count": 106,
     "metadata": {},
     "output_type": "execute_result"
    }
   ],
   "source": [
    "fourth.shape"
   ]
  },
  {
   "cell_type": "code",
   "execution_count": 107,
   "metadata": {},
   "outputs": [
    {
     "data": {
      "text/plain": [
       "(11534, 8)"
      ]
     },
     "execution_count": 107,
     "metadata": {},
     "output_type": "execute_result"
    }
   ],
   "source": [
    "fifth.shape"
   ]
  },
  {
   "cell_type": "code",
   "execution_count": 108,
   "metadata": {},
   "outputs": [],
   "source": [
    "def tidystring(df):\n",
    "   \"remove the brackets from the topic id in column b\"\n",
    "   df['b'] = df['b'].str.replace(r'\\[\\(', '')\n",
    "   return df"
   ]
  },
  {
   "cell_type": "code",
   "execution_count": 109,
   "metadata": {},
   "outputs": [],
   "source": [
    "first  = tidystring(first)\n",
    "second = tidystring(second)\n",
    "third = tidystring(third)\n",
    "fourth = tidystring(fourth)\n",
    "fifth = tidystring(fifth)"
   ]
  },
  {
   "cell_type": "code",
   "execution_count": 110,
   "metadata": {},
   "outputs": [],
   "source": [
    "def increasetopicnumber(df, n):\n",
    "   \"increase the topic number by n so that after append they are unique to inital dataset\"\n",
    "   df['b'] = pd.to_numeric(df['b'])\n",
    "   df['b'] = df['b'] + n\n",
    "   return df\n",
    "\n"
   ]
  },
  {
   "cell_type": "code",
   "execution_count": 111,
   "metadata": {},
   "outputs": [],
   "source": [
    "second = increasetopicnumber(second, 4)\n",
    "third = increasetopicnumber(third, 8)\n",
    "fourth = increasetopicnumber(fourth, 12)\n",
    "fifth = increasetopicnumber(fifth, 16)"
   ]
  },
  {
   "cell_type": "code",
   "execution_count": 112,
   "metadata": {},
   "outputs": [
    {
     "data": {
      "text/html": [
       "<div>\n",
       "<style>\n",
       "    .dataframe thead tr:only-child th {\n",
       "        text-align: right;\n",
       "    }\n",
       "\n",
       "    .dataframe thead th {\n",
       "        text-align: left;\n",
       "    }\n",
       "\n",
       "    .dataframe tbody tr th {\n",
       "        vertical-align: top;\n",
       "    }\n",
       "</style>\n",
       "<table border=\"1\" class=\"dataframe\">\n",
       "  <thead>\n",
       "    <tr style=\"text-align: right;\">\n",
       "      <th></th>\n",
       "      <th>a</th>\n",
       "      <th>b</th>\n",
       "      <th>c</th>\n",
       "      <th>d</th>\n",
       "      <th>e</th>\n",
       "      <th>f</th>\n",
       "      <th>g</th>\n",
       "      <th>h</th>\n",
       "    </tr>\n",
       "  </thead>\n",
       "  <tbody>\n",
       "    <tr>\n",
       "      <th>0</th>\n",
       "      <td>/government/news/professor-dirk-pfeiffer-joins...</td>\n",
       "      <td>4</td>\n",
       "      <td>0.93895881216871635)</td>\n",
       "      <td>(3</td>\n",
       "      <td>0.020359384950138823)</td>\n",
       "      <td>(2</td>\n",
       "      <td>0.020349420480804615)]</td>\n",
       "      <td>NaN</td>\n",
       "    </tr>\n",
       "    <tr>\n",
       "      <th>1</th>\n",
       "      <td>/government/news/twyford-seed-supplier-herbise...</td>\n",
       "      <td>7</td>\n",
       "      <td>0.94258649830687813)</td>\n",
       "      <td>(0</td>\n",
       "      <td>0.01918940165537722)</td>\n",
       "      <td>(2</td>\n",
       "      <td>0.019129042003890814)]</td>\n",
       "      <td>NaN</td>\n",
       "    </tr>\n",
       "    <tr>\n",
       "      <th>2</th>\n",
       "      <td>/guidance/sheep-scab</td>\n",
       "      <td>7</td>\n",
       "      <td>0.91501738663743226)</td>\n",
       "      <td>(1</td>\n",
       "      <td>0.028357779215854157)</td>\n",
       "      <td>(0</td>\n",
       "      <td>0.028331472067329382)]</td>\n",
       "      <td>NaN</td>\n",
       "    </tr>\n",
       "    <tr>\n",
       "      <th>3</th>\n",
       "      <td>/government/collections/guides-and-forms-for-p...</td>\n",
       "      <td>5</td>\n",
       "      <td>0.90919923318805707)</td>\n",
       "      <td>(2</td>\n",
       "      <td>0.030303233727249898)</td>\n",
       "      <td>(0</td>\n",
       "      <td>0.030286764766713253)]</td>\n",
       "      <td>NaN</td>\n",
       "    </tr>\n",
       "    <tr>\n",
       "      <th>4</th>\n",
       "      <td>/guidance/african-horse-sickness</td>\n",
       "      <td>5</td>\n",
       "      <td>0.86999306864689463)</td>\n",
       "      <td>(0</td>\n",
       "      <td>0.043843067932106641)</td>\n",
       "      <td>(3</td>\n",
       "      <td>0.04331117536997605)]</td>\n",
       "      <td>NaN</td>\n",
       "    </tr>\n",
       "  </tbody>\n",
       "</table>\n",
       "</div>"
      ],
      "text/plain": [
       "                                                   a  b  \\\n",
       "0  /government/news/professor-dirk-pfeiffer-joins...  4   \n",
       "1  /government/news/twyford-seed-supplier-herbise...  7   \n",
       "2                               /guidance/sheep-scab  7   \n",
       "3  /government/collections/guides-and-forms-for-p...  5   \n",
       "4                   /guidance/african-horse-sickness  5   \n",
       "\n",
       "                       c    d                       e    f  \\\n",
       "0   0.93895881216871635)   (3   0.020359384950138823)   (2   \n",
       "1   0.94258649830687813)   (0    0.01918940165537722)   (2   \n",
       "2   0.91501738663743226)   (1   0.028357779215854157)   (0   \n",
       "3   0.90919923318805707)   (2   0.030303233727249898)   (0   \n",
       "4   0.86999306864689463)   (0   0.043843067932106641)   (3   \n",
       "\n",
       "                         g   h  \n",
       "0   0.020349420480804615)] NaN  \n",
       "1   0.019129042003890814)] NaN  \n",
       "2   0.028331472067329382)] NaN  \n",
       "3   0.030286764766713253)] NaN  \n",
       "4    0.04331117536997605)] NaN  "
      ]
     },
     "execution_count": 112,
     "metadata": {},
     "output_type": "execute_result"
    }
   ],
   "source": [
    "second.head(5)"
   ]
  },
  {
   "cell_type": "code",
   "execution_count": 113,
   "metadata": {},
   "outputs": [],
   "source": [
    "frames = [first, second, third, fourth, fifth]\n",
    "dendro_20 = pd.concat(frames)"
   ]
  },
  {
   "cell_type": "code",
   "execution_count": 114,
   "metadata": {},
   "outputs": [
    {
     "data": {
      "text/plain": [
       "(18798, 8)"
      ]
     },
     "execution_count": 114,
     "metadata": {},
     "output_type": "execute_result"
    }
   ],
   "source": [
    "dendro_20.shape"
   ]
  },
  {
   "cell_type": "code",
   "execution_count": 115,
   "metadata": {},
   "outputs": [
    {
     "data": {
      "text/plain": [
       "(18798, 8)"
      ]
     },
     "execution_count": 115,
     "metadata": {},
     "output_type": "execute_result"
    }
   ],
   "source": [
    "freestyle_20.shape"
   ]
  },
  {
   "cell_type": "code",
   "execution_count": 116,
   "metadata": {},
   "outputs": [],
   "source": [
    "freestyle_20 = tidystring(freestyle_20)"
   ]
  },
  {
   "cell_type": "code",
   "execution_count": 117,
   "metadata": {},
   "outputs": [],
   "source": [
    "freestyle_20 = freestyle_20.drop(freestyle_20.columns[[2, 3, 4, 5, 6, 7]], axis=1)\n",
    "dendro_20 = dendro_20.drop(dendro_20.columns[[2, 3, 4, 5, 6, 7]], axis=1)"
   ]
  },
  {
   "cell_type": "code",
   "execution_count": 118,
   "metadata": {},
   "outputs": [],
   "source": [
    "freestyle_20.columns = ['url', 'topic_id_f']\n",
    "dendro_20.columns = ['url', 'topic_id_d']\n"
   ]
  },
  {
   "cell_type": "markdown",
   "metadata": {},
   "source": [
    "might need to merge on URL this time because index order may be different after appending first/secondthird etc:\n",
    "\n",
    "merge the two outputs from the different methods"
   ]
  },
  {
   "cell_type": "code",
   "execution_count": 119,
   "metadata": {},
   "outputs": [
    {
     "data": {
      "text/html": [
       "<div>\n",
       "<style>\n",
       "    .dataframe thead tr:only-child th {\n",
       "        text-align: right;\n",
       "    }\n",
       "\n",
       "    .dataframe thead th {\n",
       "        text-align: left;\n",
       "    }\n",
       "\n",
       "    .dataframe tbody tr th {\n",
       "        vertical-align: top;\n",
       "    }\n",
       "</style>\n",
       "<table border=\"1\" class=\"dataframe\">\n",
       "  <thead>\n",
       "    <tr style=\"text-align: right;\">\n",
       "      <th></th>\n",
       "      <th>url</th>\n",
       "      <th>topic_id</th>\n",
       "    </tr>\n",
       "  </thead>\n",
       "  <tbody>\n",
       "    <tr>\n",
       "      <th>0</th>\n",
       "      <td>/government/statistics/sheep-and-goats-scrapie...</td>\n",
       "      <td>0</td>\n",
       "    </tr>\n",
       "    <tr>\n",
       "      <th>1</th>\n",
       "      <td>/government/publications/foot-and-mouth-diseas...</td>\n",
       "      <td>1</td>\n",
       "    </tr>\n",
       "    <tr>\n",
       "      <th>2</th>\n",
       "      <td>/government/publications/bluetongue-in-greece-...</td>\n",
       "      <td>0</td>\n",
       "    </tr>\n",
       "    <tr>\n",
       "      <th>3</th>\n",
       "      <td>/government/publications/vesicular-stomatitis-...</td>\n",
       "      <td>0</td>\n",
       "    </tr>\n",
       "    <tr>\n",
       "      <th>4</th>\n",
       "      <td>/government/publications/swine-fever-in-domest...</td>\n",
       "      <td>3</td>\n",
       "    </tr>\n",
       "    <tr>\n",
       "      <th>5</th>\n",
       "      <td>/government/publications/bluetongue-in-greece-...</td>\n",
       "      <td>0</td>\n",
       "    </tr>\n",
       "    <tr>\n",
       "      <th>6</th>\n",
       "      <td>/government/publications/pest-de-petits-rumina...</td>\n",
       "      <td>1</td>\n",
       "    </tr>\n",
       "    <tr>\n",
       "      <th>7</th>\n",
       "      <td>/government/publications/foot-and-mouth-diseas...</td>\n",
       "      <td>1</td>\n",
       "    </tr>\n",
       "    <tr>\n",
       "      <th>8</th>\n",
       "      <td>/government/publications/avian-influenza-in-po...</td>\n",
       "      <td>2</td>\n",
       "    </tr>\n",
       "    <tr>\n",
       "      <th>9</th>\n",
       "      <td>/guidance/animal-by-product-processors-how-to-...</td>\n",
       "      <td>1</td>\n",
       "    </tr>\n",
       "  </tbody>\n",
       "</table>\n",
       "</div>"
      ],
      "text/plain": [
       "                                                 url topic_id\n",
       "0  /government/statistics/sheep-and-goats-scrapie...        0\n",
       "1  /government/publications/foot-and-mouth-diseas...        1\n",
       "2  /government/publications/bluetongue-in-greece-...        0\n",
       "3  /government/publications/vesicular-stomatitis-...        0\n",
       "4  /government/publications/swine-fever-in-domest...        3\n",
       "5  /government/publications/bluetongue-in-greece-...        0\n",
       "6  /government/publications/pest-de-petits-rumina...        1\n",
       "7  /government/publications/foot-and-mouth-diseas...        1\n",
       "8  /government/publications/avian-influenza-in-po...        2\n",
       "9  /guidance/animal-by-product-processors-how-to-...        1"
      ]
     },
     "execution_count": 119,
     "metadata": {},
     "output_type": "execute_result"
    }
   ],
   "source": [
    "dendro_20.head(10)"
   ]
  },
  {
   "cell_type": "code",
   "execution_count": 120,
   "metadata": {},
   "outputs": [],
   "source": [
    "both = pd.merge(freestyle_20, dendro_20, on = 'url' , indicator = True)"
   ]
  },
  {
   "cell_type": "code",
   "execution_count": 121,
   "metadata": {},
   "outputs": [
    {
     "data": {
      "text/html": [
       "<div>\n",
       "<style>\n",
       "    .dataframe thead tr:only-child th {\n",
       "        text-align: right;\n",
       "    }\n",
       "\n",
       "    .dataframe thead th {\n",
       "        text-align: left;\n",
       "    }\n",
       "\n",
       "    .dataframe tbody tr th {\n",
       "        vertical-align: top;\n",
       "    }\n",
       "</style>\n",
       "<table border=\"1\" class=\"dataframe\">\n",
       "  <thead>\n",
       "    <tr style=\"text-align: right;\">\n",
       "      <th>col_0</th>\n",
       "      <th>count</th>\n",
       "    </tr>\n",
       "    <tr>\n",
       "      <th>_merge</th>\n",
       "      <th></th>\n",
       "    </tr>\n",
       "  </thead>\n",
       "  <tbody>\n",
       "    <tr>\n",
       "      <th>left_only</th>\n",
       "      <td>0</td>\n",
       "    </tr>\n",
       "    <tr>\n",
       "      <th>right_only</th>\n",
       "      <td>0</td>\n",
       "    </tr>\n",
       "    <tr>\n",
       "      <th>both</th>\n",
       "      <td>18800</td>\n",
       "    </tr>\n",
       "  </tbody>\n",
       "</table>\n",
       "</div>"
      ],
      "text/plain": [
       "col_0       count\n",
       "_merge           \n",
       "left_only       0\n",
       "right_only      0\n",
       "both        18800"
      ]
     },
     "execution_count": 121,
     "metadata": {},
     "output_type": "execute_result"
    }
   ],
   "source": [
    "pd.crosstab(index=both[\"_merge\"],  # Make a crosstab\n",
    "                              columns=\"count\")"
   ]
  },
  {
   "cell_type": "markdown",
   "metadata": {},
   "source": [
    "get that duplicate row again!"
   ]
  },
  {
   "cell_type": "code",
   "execution_count": 122,
   "metadata": {},
   "outputs": [
    {
     "data": {
      "text/html": [
       "<div>\n",
       "<style>\n",
       "    .dataframe thead tr:only-child th {\n",
       "        text-align: right;\n",
       "    }\n",
       "\n",
       "    .dataframe thead th {\n",
       "        text-align: left;\n",
       "    }\n",
       "\n",
       "    .dataframe tbody tr th {\n",
       "        vertical-align: top;\n",
       "    }\n",
       "</style>\n",
       "<table border=\"1\" class=\"dataframe\">\n",
       "  <thead>\n",
       "    <tr style=\"text-align: right;\">\n",
       "      <th></th>\n",
       "      <th>url</th>\n",
       "      <th>topic_id_x</th>\n",
       "      <th>topic_id_y</th>\n",
       "      <th>_merge</th>\n",
       "    </tr>\n",
       "  </thead>\n",
       "  <tbody>\n",
       "    <tr>\n",
       "      <th>3236</th>\n",
       "      <td>/government/publications/countryside-stewardsh...</td>\n",
       "      <td>6</td>\n",
       "      <td>17</td>\n",
       "      <td>both</td>\n",
       "    </tr>\n",
       "    <tr>\n",
       "      <th>3237</th>\n",
       "      <td>/government/publications/countryside-stewardsh...</td>\n",
       "      <td>6</td>\n",
       "      <td>17</td>\n",
       "      <td>both</td>\n",
       "    </tr>\n",
       "    <tr>\n",
       "      <th>3238</th>\n",
       "      <td>/government/publications/countryside-stewardsh...</td>\n",
       "      <td>6</td>\n",
       "      <td>17</td>\n",
       "      <td>both</td>\n",
       "    </tr>\n",
       "    <tr>\n",
       "      <th>3239</th>\n",
       "      <td>/government/publications/countryside-stewardsh...</td>\n",
       "      <td>6</td>\n",
       "      <td>17</td>\n",
       "      <td>both</td>\n",
       "    </tr>\n",
       "  </tbody>\n",
       "</table>\n",
       "</div>"
      ],
      "text/plain": [
       "                                                    url topic_id_x topic_id_y  \\\n",
       "3236  /government/publications/countryside-stewardsh...          6         17   \n",
       "3237  /government/publications/countryside-stewardsh...          6         17   \n",
       "3238  /government/publications/countryside-stewardsh...          6         17   \n",
       "3239  /government/publications/countryside-stewardsh...          6         17   \n",
       "\n",
       "     _merge  \n",
       "3236   both  \n",
       "3237   both  \n",
       "3238   both  \n",
       "3239   both  "
      ]
     },
     "execution_count": 122,
     "metadata": {},
     "output_type": "execute_result"
    }
   ],
   "source": [
    "both[both.duplicated(keep=False)]"
   ]
  },
  {
   "cell_type": "code",
   "execution_count": 123,
   "metadata": {},
   "outputs": [],
   "source": [
    "dedup = both.drop_duplicates(keep = 'last')"
   ]
  },
  {
   "cell_type": "code",
   "execution_count": 124,
   "metadata": {},
   "outputs": [
    {
     "data": {
      "text/plain": [
       "(18797, 4)"
      ]
     },
     "execution_count": 124,
     "metadata": {},
     "output_type": "execute_result"
    }
   ],
   "source": [
    "dedup.shape"
   ]
  },
  {
   "cell_type": "markdown",
   "metadata": {},
   "source": [
    "this still needs sorting out as there is now one less row than there should be..."
   ]
  },
  {
   "cell_type": "code",
   "execution_count": 125,
   "metadata": {},
   "outputs": [
    {
     "data": {
      "text/html": [
       "<div>\n",
       "<style>\n",
       "    .dataframe thead tr:only-child th {\n",
       "        text-align: right;\n",
       "    }\n",
       "\n",
       "    .dataframe thead th {\n",
       "        text-align: left;\n",
       "    }\n",
       "\n",
       "    .dataframe tbody tr th {\n",
       "        vertical-align: top;\n",
       "    }\n",
       "</style>\n",
       "<table border=\"1\" class=\"dataframe\">\n",
       "  <thead>\n",
       "    <tr style=\"text-align: right;\">\n",
       "      <th></th>\n",
       "      <th>url</th>\n",
       "      <th>topic_id_x</th>\n",
       "      <th>topic_id_y</th>\n",
       "      <th>_merge</th>\n",
       "    </tr>\n",
       "  </thead>\n",
       "  <tbody>\n",
       "    <tr>\n",
       "      <th>0</th>\n",
       "      <td>/guidance/salmonella-get-your-egg-laying-hens-...</td>\n",
       "      <td>11</td>\n",
       "      <td>15</td>\n",
       "      <td>both</td>\n",
       "    </tr>\n",
       "    <tr>\n",
       "      <th>1</th>\n",
       "      <td>/guidance/animal-by-products-that-can-be-sprea...</td>\n",
       "      <td>8</td>\n",
       "      <td>18</td>\n",
       "      <td>both</td>\n",
       "    </tr>\n",
       "    <tr>\n",
       "      <th>2</th>\n",
       "      <td>/government/statistics/sheep-and-goats-scrapie...</td>\n",
       "      <td>3</td>\n",
       "      <td>0</td>\n",
       "      <td>both</td>\n",
       "    </tr>\n",
       "    <tr>\n",
       "      <th>3</th>\n",
       "      <td>/government/statistics/great-britain-poultry-r...</td>\n",
       "      <td>12</td>\n",
       "      <td>13</td>\n",
       "      <td>both</td>\n",
       "    </tr>\n",
       "    <tr>\n",
       "      <th>4</th>\n",
       "      <td>/government/publications/application-for-veter...</td>\n",
       "      <td>3</td>\n",
       "      <td>19</td>\n",
       "      <td>both</td>\n",
       "    </tr>\n",
       "    <tr>\n",
       "      <th>5</th>\n",
       "      <td>/government/publications/avian-wildlife-casual...</td>\n",
       "      <td>11</td>\n",
       "      <td>16</td>\n",
       "      <td>both</td>\n",
       "    </tr>\n",
       "    <tr>\n",
       "      <th>6</th>\n",
       "      <td>/government/statistics/cross-compliance-2013-i...</td>\n",
       "      <td>3</td>\n",
       "      <td>18</td>\n",
       "      <td>both</td>\n",
       "    </tr>\n",
       "    <tr>\n",
       "      <th>7</th>\n",
       "      <td>/government/publications/monitoring-the-humane...</td>\n",
       "      <td>16</td>\n",
       "      <td>18</td>\n",
       "      <td>both</td>\n",
       "    </tr>\n",
       "    <tr>\n",
       "      <th>8</th>\n",
       "      <td>/government/publications/foot-and-mouth-diseas...</td>\n",
       "      <td>7</td>\n",
       "      <td>1</td>\n",
       "      <td>both</td>\n",
       "    </tr>\n",
       "    <tr>\n",
       "      <th>9</th>\n",
       "      <td>/government/publications/bluetongue-in-greece-...</td>\n",
       "      <td>5</td>\n",
       "      <td>0</td>\n",
       "      <td>both</td>\n",
       "    </tr>\n",
       "  </tbody>\n",
       "</table>\n",
       "</div>"
      ],
      "text/plain": [
       "                                                 url topic_id_x topic_id_y  \\\n",
       "0  /guidance/salmonella-get-your-egg-laying-hens-...         11         15   \n",
       "1  /guidance/animal-by-products-that-can-be-sprea...          8         18   \n",
       "2  /government/statistics/sheep-and-goats-scrapie...          3          0   \n",
       "3  /government/statistics/great-britain-poultry-r...         12         13   \n",
       "4  /government/publications/application-for-veter...          3         19   \n",
       "5  /government/publications/avian-wildlife-casual...         11         16   \n",
       "6  /government/statistics/cross-compliance-2013-i...          3         18   \n",
       "7  /government/publications/monitoring-the-humane...         16         18   \n",
       "8  /government/publications/foot-and-mouth-diseas...          7          1   \n",
       "9  /government/publications/bluetongue-in-greece-...          5          0   \n",
       "\n",
       "  _merge  \n",
       "0   both  \n",
       "1   both  \n",
       "2   both  \n",
       "3   both  \n",
       "4   both  \n",
       "5   both  \n",
       "6   both  \n",
       "7   both  \n",
       "8   both  \n",
       "9   both  "
      ]
     },
     "execution_count": 125,
     "metadata": {},
     "output_type": "execute_result"
    }
   ],
   "source": [
    "dedup.head(10)"
   ]
  },
  {
   "cell_type": "code",
   "execution_count": 126,
   "metadata": {},
   "outputs": [],
   "source": [
    "compare_method = dedup.drop(dedup.columns[[3]], axis=1)"
   ]
  },
  {
   "cell_type": "markdown",
   "metadata": {},
   "source": [
    "this code counts the rows per topic*topic for value column in sankey data"
   ]
  },
  {
   "cell_type": "code",
   "execution_count": 127,
   "metadata": {},
   "outputs": [
    {
     "data": {
      "text/html": [
       "<div>\n",
       "<style>\n",
       "    .dataframe thead tr:only-child th {\n",
       "        text-align: right;\n",
       "    }\n",
       "\n",
       "    .dataframe thead th {\n",
       "        text-align: left;\n",
       "    }\n",
       "\n",
       "    .dataframe tbody tr th {\n",
       "        vertical-align: top;\n",
       "    }\n",
       "</style>\n",
       "<table border=\"1\" class=\"dataframe\">\n",
       "  <thead>\n",
       "    <tr style=\"text-align: right;\">\n",
       "      <th></th>\n",
       "      <th>topic_id_x</th>\n",
       "      <th>topic_id_y</th>\n",
       "      <th>value</th>\n",
       "    </tr>\n",
       "  </thead>\n",
       "  <tbody>\n",
       "    <tr>\n",
       "      <th>0</th>\n",
       "      <td>0</td>\n",
       "      <td>4</td>\n",
       "      <td>9</td>\n",
       "    </tr>\n",
       "    <tr>\n",
       "      <th>1</th>\n",
       "      <td>0</td>\n",
       "      <td>5</td>\n",
       "      <td>18</td>\n",
       "    </tr>\n",
       "    <tr>\n",
       "      <th>2</th>\n",
       "      <td>0</td>\n",
       "      <td>6</td>\n",
       "      <td>9</td>\n",
       "    </tr>\n",
       "    <tr>\n",
       "      <th>3</th>\n",
       "      <td>0</td>\n",
       "      <td>7</td>\n",
       "      <td>24</td>\n",
       "    </tr>\n",
       "    <tr>\n",
       "      <th>4</th>\n",
       "      <td>0</td>\n",
       "      <td>8</td>\n",
       "      <td>13</td>\n",
       "    </tr>\n",
       "    <tr>\n",
       "      <th>5</th>\n",
       "      <td>0</td>\n",
       "      <td>9</td>\n",
       "      <td>17</td>\n",
       "    </tr>\n",
       "    <tr>\n",
       "      <th>6</th>\n",
       "      <td>0</td>\n",
       "      <td>10</td>\n",
       "      <td>18</td>\n",
       "    </tr>\n",
       "    <tr>\n",
       "      <th>7</th>\n",
       "      <td>0</td>\n",
       "      <td>11</td>\n",
       "      <td>25</td>\n",
       "    </tr>\n",
       "    <tr>\n",
       "      <th>8</th>\n",
       "      <td>0</td>\n",
       "      <td>12</td>\n",
       "      <td>21</td>\n",
       "    </tr>\n",
       "    <tr>\n",
       "      <th>9</th>\n",
       "      <td>0</td>\n",
       "      <td>13</td>\n",
       "      <td>13</td>\n",
       "    </tr>\n",
       "  </tbody>\n",
       "</table>\n",
       "</div>"
      ],
      "text/plain": [
       "  topic_id_x topic_id_y  value\n",
       "0          0          4      9\n",
       "1          0          5     18\n",
       "2          0          6      9\n",
       "3          0          7     24\n",
       "4          0          8     13\n",
       "5          0          9     17\n",
       "6          0         10     18\n",
       "7          0         11     25\n",
       "8          0         12     21\n",
       "9          0         13     13"
      ]
     },
     "execution_count": 127,
     "metadata": {},
     "output_type": "execute_result"
    }
   ],
   "source": [
    "sankey_data_methods = compare_method.groupby(['topic_id_x', 'topic_id_y']).size().to_frame('value').reset_index()\n",
    "\n",
    "sankey_data_methods.head(10)"
   ]
  },
  {
   "cell_type": "code",
   "execution_count": 128,
   "metadata": {},
   "outputs": [],
   "source": [
    "sankey_data_methods.columns = ['source', 'target','value']"
   ]
  },
  {
   "cell_type": "code",
   "execution_count": 129,
   "metadata": {},
   "outputs": [
    {
     "data": {
      "text/html": [
       "<div>\n",
       "<style>\n",
       "    .dataframe thead tr:only-child th {\n",
       "        text-align: right;\n",
       "    }\n",
       "\n",
       "    .dataframe thead th {\n",
       "        text-align: left;\n",
       "    }\n",
       "\n",
       "    .dataframe tbody tr th {\n",
       "        vertical-align: top;\n",
       "    }\n",
       "</style>\n",
       "<table border=\"1\" class=\"dataframe\">\n",
       "  <thead>\n",
       "    <tr style=\"text-align: right;\">\n",
       "      <th></th>\n",
       "      <th>source</th>\n",
       "      <th>target</th>\n",
       "      <th>value</th>\n",
       "    </tr>\n",
       "  </thead>\n",
       "  <tbody>\n",
       "    <tr>\n",
       "      <th>0</th>\n",
       "      <td>0</td>\n",
       "      <td>4</td>\n",
       "      <td>9</td>\n",
       "    </tr>\n",
       "    <tr>\n",
       "      <th>1</th>\n",
       "      <td>0</td>\n",
       "      <td>5</td>\n",
       "      <td>18</td>\n",
       "    </tr>\n",
       "    <tr>\n",
       "      <th>2</th>\n",
       "      <td>0</td>\n",
       "      <td>6</td>\n",
       "      <td>9</td>\n",
       "    </tr>\n",
       "    <tr>\n",
       "      <th>3</th>\n",
       "      <td>0</td>\n",
       "      <td>7</td>\n",
       "      <td>24</td>\n",
       "    </tr>\n",
       "    <tr>\n",
       "      <th>4</th>\n",
       "      <td>0</td>\n",
       "      <td>8</td>\n",
       "      <td>13</td>\n",
       "    </tr>\n",
       "    <tr>\n",
       "      <th>5</th>\n",
       "      <td>0</td>\n",
       "      <td>9</td>\n",
       "      <td>17</td>\n",
       "    </tr>\n",
       "    <tr>\n",
       "      <th>6</th>\n",
       "      <td>0</td>\n",
       "      <td>10</td>\n",
       "      <td>18</td>\n",
       "    </tr>\n",
       "    <tr>\n",
       "      <th>7</th>\n",
       "      <td>0</td>\n",
       "      <td>11</td>\n",
       "      <td>25</td>\n",
       "    </tr>\n",
       "    <tr>\n",
       "      <th>8</th>\n",
       "      <td>0</td>\n",
       "      <td>12</td>\n",
       "      <td>21</td>\n",
       "    </tr>\n",
       "    <tr>\n",
       "      <th>9</th>\n",
       "      <td>0</td>\n",
       "      <td>13</td>\n",
       "      <td>13</td>\n",
       "    </tr>\n",
       "  </tbody>\n",
       "</table>\n",
       "</div>"
      ],
      "text/plain": [
       "  source target  value\n",
       "0      0      4      9\n",
       "1      0      5     18\n",
       "2      0      6      9\n",
       "3      0      7     24\n",
       "4      0      8     13\n",
       "5      0      9     17\n",
       "6      0     10     18\n",
       "7      0     11     25\n",
       "8      0     12     21\n",
       "9      0     13     13"
      ]
     },
     "execution_count": 129,
     "metadata": {},
     "output_type": "execute_result"
    }
   ],
   "source": [
    "sankey_data_methods.head(10)"
   ]
  },
  {
   "cell_type": "code",
   "execution_count": 130,
   "metadata": {},
   "outputs": [
    {
     "name": "stdout",
     "output_type": "stream",
     "text": [
      "/Users/ellieking/govuk-lda-tagger/enviro_experiments/Sankey_method2\n"
     ]
    }
   ],
   "source": [
    "cd ../Sankey_method2"
   ]
  },
  {
   "cell_type": "code",
   "execution_count": 131,
   "metadata": {},
   "outputs": [],
   "source": [
    "sankey_data_methods.to_csv('sankey_data_compare_methods.csv', index = False)"
   ]
  }
 ],
 "metadata": {
  "kernelspec": {
   "display_name": "Python 3",
   "language": "python",
   "name": "python3"
  },
  "language_info": {
   "codemirror_mode": {
    "name": "ipython",
    "version": 3
   },
   "file_extension": ".py",
   "mimetype": "text/x-python",
   "name": "python",
   "nbconvert_exporter": "python",
   "pygments_lexer": "ipython3",
   "version": "3.6.1"
  }
 },
 "nbformat": 4,
 "nbformat_minor": 2
}
